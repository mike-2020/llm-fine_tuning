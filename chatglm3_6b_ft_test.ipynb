{
  "cells": [
    {
      "cell_type": "code",
      "execution_count": null,
      "metadata": {
        "id": "BdJmJPb07U47",
        "outputId": "ce2c59ee-60d3-43c7-bc60-503f6fffcc61",
        "colab": {
          "base_uri": "https://localhost:8080/"
        }
      },
      "outputs": [
        {
          "output_type": "stream",
          "name": "stdout",
          "text": [
            "Cloning into 'ChatGLM3_6B_Lora'...\n",
            "remote: Enumerating objects: 23, done.\u001b[K\n",
            "remote: Counting objects: 100% (23/23), done.\u001b[K\n",
            "remote: Compressing objects: 100% (20/20), done.\u001b[K\n",
            "remote: Total 23 (delta 3), reused 0 (delta 0), pack-reused 0\u001b[K\n",
            "Receiving objects: 100% (23/23), 26.00 KiB | 178.00 KiB/s, done.\n",
            "Resolving deltas: 100% (3/3), done.\n"
          ]
        }
      ],
      "source": [
        "\"\"\"下载LLaMA-Factory\n",
        "\"\"\"\n",
        "!git clone https://www.modelscope.cn/allspace/ChatGLM3_6B_Lora.git"
      ]
    },
    {
      "cell_type": "code",
      "execution_count": null,
      "metadata": {
        "id": "h43G1zhf7msU"
      },
      "outputs": [],
      "source": [
        "\"\"\"安装依赖\n",
        "\"\"\"\n",
        "!pip install einops\n",
        "!pip install transformers==4.34.0"
      ]
    },
    {
      "cell_type": "code",
      "execution_count": null,
      "metadata": {
        "id": "CkfPWnYOERj1"
      },
      "outputs": [],
      "source": [
        "\"\"\"查看模型效果\n",
        "\"\"\"\n",
        "\n",
        "\n",
        "import os\n",
        "from threading import Thread\n",
        "\n",
        "import torch\n",
        "from transformers.generation.streamers import TextIteratorStreamer\n",
        "from transformers import AutoModelForCausalLM, AutoTokenizer, GenerationConfig\n",
        "\n",
        "torch.set_default_device(\"cuda\")\n",
        "\n",
        "model_name = \"/content/ChatGLM3_6B_Lora\"\n",
        "model = AutoModelForCausalLM.from_pretrained(model_name, trust_remote_code=True)\n",
        "model.generation_config = GenerationConfig.from_pretrained(model_name)\n",
        "\n",
        "tokenizer = AutoTokenizer.from_pretrained(model_name, trust_remote_code=True)\n",
        "tokenizer.pad_token = tokenizer.eos_token\n",
        "\n",
        "\n",
        "def stream(prompt):\n",
        "    inputs = tokenizer(prompt, return_tensors='pt', padding=True, return_attention_mask=True)\n",
        "    streamer = TextIteratorStreamer(\n",
        "        tokenizer,\n",
        "        decode_kwargs={\"skip_special_tokens\": True})\n",
        "    Thread(\n",
        "        target=model.generate, kwargs=dict(\n",
        "            inputs, streamer=streamer,\n",
        "            max_new_tokens=128)\n",
        "    ).start()\n",
        "\n",
        "    first = True\n",
        "    for text in streamer:\n",
        "        if first and text:\n",
        "            first = False\n",
        "            continue\n",
        "\n",
        "        if not text:\n",
        "            continue\n",
        "        if tokenizer.eos_token in text:\n",
        "            break\n",
        "\n",
        "        yield text\n",
        "\n",
        "\n",
        "def main():\n",
        "    welcome_prompt = \"欢迎使用 法律AI 模型，输入内容即可进行对话，clear 清空对话历史，stop 终止程序\"\n",
        "    print(welcome_prompt)\n",
        "    while True:\n",
        "        query = input(\"\\n用户：\")\n",
        "        if query.strip() == \"stop\":\n",
        "            break\n",
        "        if query.strip() == \"clear\":\n",
        "            os.system(\"clr\")\n",
        "            print(welcome_prompt)\n",
        "            continue\n",
        "        print(\"\\n法律AI：\", end=\"\")\n",
        "        for text in stream(query):\n",
        "            print(text, end=\"\", flush=True)\n",
        "        print(\"\")\n",
        "\n",
        "\n",
        "\n",
        "main()"
      ]
    }
  ],
  "metadata": {
    "colab": {
      "provenance": []
    },
    "kernelspec": {
      "display_name": "Python 3",
      "name": "python3"
    },
    "language_info": {
      "name": "python"
    }
  },
  "nbformat": 4,
  "nbformat_minor": 0
}